{
 "cells": [
  {
   "cell_type": "code",
   "execution_count": 31,
   "id": "386fad63",
   "metadata": {},
   "outputs": [],
   "source": [
    "import pandas as pd\n",
    "import numpy as np\n",
    "import matplotlib.pyplot as plt"
   ]
  },
  {
   "cell_type": "code",
   "execution_count": 2,
   "id": "e9e0d560",
   "metadata": {},
   "outputs": [
    {
     "name": "stdout",
     "output_type": "stream",
     "text": [
      "      Depth(ft)  ROP(1 ft)  weight on bit (k-lbs)  Temp Out( degF)  \\\n",
      "0       1401.28      27.98                  13.40           121.01   \n",
      "1       1402.30      70.42                  15.26           121.01   \n",
      "2       1403.32      73.22                  16.26           121.05   \n",
      "3       1404.33      77.92                  15.72           121.01   \n",
      "4       1405.35      67.84                  13.98           121.09   \n",
      "...         ...        ...                    ...              ...   \n",
      "6039    7532.21      10.81                  30.55           138.89   \n",
      "6040    7533.22      13.51                  30.23           138.89   \n",
      "6041    7534.23      12.62                  29.95           139.08   \n",
      "6042    7535.24      14.72                  31.06           139.31   \n",
      "6043    7536.25      12.97                  30.60           139.39   \n",
      "\n",
      "      Temp In(degF)  Pit Total (bbls)  Pump Press (psi)  Hookload (k-lbs)  \\\n",
      "0            118.21            236.87            640.62             57.38   \n",
      "1            118.25            236.74            634.52             55.51   \n",
      "2            118.28            236.70            665.78             54.52   \n",
      "3            118.32            236.41            676.08             55.05   \n",
      "4            118.32            236.73            676.08             56.80   \n",
      "...             ...               ...               ...               ...   \n",
      "6039         121.22            240.25           1549.23            128.63   \n",
      "6040         121.14            240.26           1565.90            128.95   \n",
      "6041         121.22            240.38           1506.81            129.23   \n",
      "6042         121.33            241.27           1408.32            128.12   \n",
      "6043         121.26            241.05           1396.19            128.58   \n",
      "\n",
      "      Surface Torque (KPa)  Rotary Speed (rpm)  Flow In (gal/min)  Flow Out %  \\\n",
      "0                   958.27              113.11             930.43       85.82   \n",
      "1                  1027.15              103.65             866.61       87.67   \n",
      "2                  1022.67              103.44             961.17       89.34   \n",
      "3                  1068.66               95.23             959.99       89.03   \n",
      "4                   932.20              105.69             961.62       88.28   \n",
      "...                    ...                 ...                ...         ...   \n",
      "6039               1049.76               34.91             609.49       75.66   \n",
      "6040               1040.52               34.78             615.09       76.51   \n",
      "6041               1059.97               34.72             635.76       80.00   \n",
      "6042                999.78               36.49             627.15       77.92   \n",
      "6043               1025.01               34.06             988.39       77.88   \n",
      "\n",
      "      WH Pressure (psi)  \n",
      "0                  5.97  \n",
      "1                  6.36  \n",
      "2                  6.36  \n",
      "3                  6.74  \n",
      "4                  6.36  \n",
      "...                 ...  \n",
      "6039               5.74  \n",
      "6040               5.74  \n",
      "6041               6.13  \n",
      "6042               6.13  \n",
      "6043               6.13  \n",
      "\n",
      "[6044 rows x 13 columns]\n"
     ]
    }
   ],
   "source": [
    "df = pd.read_excel (r'C:\\Users\\Admin\\Downloads\\Well_58-32_processed_pason_log_API.xlsx')\n",
    "print (df)"
   ]
  },
  {
   "cell_type": "code",
   "execution_count": 3,
   "id": "fc3f497e",
   "metadata": {},
   "outputs": [
    {
     "data": {
      "text/html": [
       "<div>\n",
       "<style scoped>\n",
       "    .dataframe tbody tr th:only-of-type {\n",
       "        vertical-align: middle;\n",
       "    }\n",
       "\n",
       "    .dataframe tbody tr th {\n",
       "        vertical-align: top;\n",
       "    }\n",
       "\n",
       "    .dataframe thead th {\n",
       "        text-align: right;\n",
       "    }\n",
       "</style>\n",
       "<table border=\"1\" class=\"dataframe\">\n",
       "  <thead>\n",
       "    <tr style=\"text-align: right;\">\n",
       "      <th></th>\n",
       "      <th>Depth(ft)</th>\n",
       "      <th>weight on bit (k-lbs)</th>\n",
       "      <th>Pump Press (psi)</th>\n",
       "      <th>Surface Torque (KPa)</th>\n",
       "      <th>Rotary Speed (rpm)</th>\n",
       "      <th>Flow In (gal/min)</th>\n",
       "      <th>ROP(1 ft)</th>\n",
       "    </tr>\n",
       "  </thead>\n",
       "  <tbody>\n",
       "    <tr>\n",
       "      <th>0</th>\n",
       "      <td>1401.28</td>\n",
       "      <td>13.40</td>\n",
       "      <td>640.62</td>\n",
       "      <td>958.27</td>\n",
       "      <td>113.11</td>\n",
       "      <td>930.43</td>\n",
       "      <td>27.98</td>\n",
       "    </tr>\n",
       "    <tr>\n",
       "      <th>1</th>\n",
       "      <td>1402.30</td>\n",
       "      <td>15.26</td>\n",
       "      <td>634.52</td>\n",
       "      <td>1027.15</td>\n",
       "      <td>103.65</td>\n",
       "      <td>866.61</td>\n",
       "      <td>70.42</td>\n",
       "    </tr>\n",
       "    <tr>\n",
       "      <th>2</th>\n",
       "      <td>1403.32</td>\n",
       "      <td>16.26</td>\n",
       "      <td>665.78</td>\n",
       "      <td>1022.67</td>\n",
       "      <td>103.44</td>\n",
       "      <td>961.17</td>\n",
       "      <td>73.22</td>\n",
       "    </tr>\n",
       "    <tr>\n",
       "      <th>3</th>\n",
       "      <td>1404.33</td>\n",
       "      <td>15.72</td>\n",
       "      <td>676.08</td>\n",
       "      <td>1068.66</td>\n",
       "      <td>95.23</td>\n",
       "      <td>959.99</td>\n",
       "      <td>77.92</td>\n",
       "    </tr>\n",
       "    <tr>\n",
       "      <th>4</th>\n",
       "      <td>1405.35</td>\n",
       "      <td>13.98</td>\n",
       "      <td>676.08</td>\n",
       "      <td>932.20</td>\n",
       "      <td>105.69</td>\n",
       "      <td>961.62</td>\n",
       "      <td>67.84</td>\n",
       "    </tr>\n",
       "    <tr>\n",
       "      <th>...</th>\n",
       "      <td>...</td>\n",
       "      <td>...</td>\n",
       "      <td>...</td>\n",
       "      <td>...</td>\n",
       "      <td>...</td>\n",
       "      <td>...</td>\n",
       "      <td>...</td>\n",
       "    </tr>\n",
       "    <tr>\n",
       "      <th>6039</th>\n",
       "      <td>7532.21</td>\n",
       "      <td>30.55</td>\n",
       "      <td>1549.23</td>\n",
       "      <td>1049.76</td>\n",
       "      <td>34.91</td>\n",
       "      <td>609.49</td>\n",
       "      <td>10.81</td>\n",
       "    </tr>\n",
       "    <tr>\n",
       "      <th>6040</th>\n",
       "      <td>7533.22</td>\n",
       "      <td>30.23</td>\n",
       "      <td>1565.90</td>\n",
       "      <td>1040.52</td>\n",
       "      <td>34.78</td>\n",
       "      <td>615.09</td>\n",
       "      <td>13.51</td>\n",
       "    </tr>\n",
       "    <tr>\n",
       "      <th>6041</th>\n",
       "      <td>7534.23</td>\n",
       "      <td>29.95</td>\n",
       "      <td>1506.81</td>\n",
       "      <td>1059.97</td>\n",
       "      <td>34.72</td>\n",
       "      <td>635.76</td>\n",
       "      <td>12.62</td>\n",
       "    </tr>\n",
       "    <tr>\n",
       "      <th>6042</th>\n",
       "      <td>7535.24</td>\n",
       "      <td>31.06</td>\n",
       "      <td>1408.32</td>\n",
       "      <td>999.78</td>\n",
       "      <td>36.49</td>\n",
       "      <td>627.15</td>\n",
       "      <td>14.72</td>\n",
       "    </tr>\n",
       "    <tr>\n",
       "      <th>6043</th>\n",
       "      <td>7536.25</td>\n",
       "      <td>30.60</td>\n",
       "      <td>1396.19</td>\n",
       "      <td>1025.01</td>\n",
       "      <td>34.06</td>\n",
       "      <td>988.39</td>\n",
       "      <td>12.97</td>\n",
       "    </tr>\n",
       "  </tbody>\n",
       "</table>\n",
       "<p>6044 rows × 7 columns</p>\n",
       "</div>"
      ],
      "text/plain": [
       "      Depth(ft)  weight on bit (k-lbs)  Pump Press (psi)  \\\n",
       "0       1401.28                  13.40            640.62   \n",
       "1       1402.30                  15.26            634.52   \n",
       "2       1403.32                  16.26            665.78   \n",
       "3       1404.33                  15.72            676.08   \n",
       "4       1405.35                  13.98            676.08   \n",
       "...         ...                    ...               ...   \n",
       "6039    7532.21                  30.55           1549.23   \n",
       "6040    7533.22                  30.23           1565.90   \n",
       "6041    7534.23                  29.95           1506.81   \n",
       "6042    7535.24                  31.06           1408.32   \n",
       "6043    7536.25                  30.60           1396.19   \n",
       "\n",
       "      Surface Torque (KPa)  Rotary Speed (rpm)  Flow In (gal/min)  ROP(1 ft)  \n",
       "0                   958.27              113.11             930.43      27.98  \n",
       "1                  1027.15              103.65             866.61      70.42  \n",
       "2                  1022.67              103.44             961.17      73.22  \n",
       "3                  1068.66               95.23             959.99      77.92  \n",
       "4                   932.20              105.69             961.62      67.84  \n",
       "...                    ...                 ...                ...        ...  \n",
       "6039               1049.76               34.91             609.49      10.81  \n",
       "6040               1040.52               34.78             615.09      13.51  \n",
       "6041               1059.97               34.72             635.76      12.62  \n",
       "6042                999.78               36.49             627.15      14.72  \n",
       "6043               1025.01               34.06             988.39      12.97  \n",
       "\n",
       "[6044 rows x 7 columns]"
      ]
     },
     "execution_count": 3,
     "metadata": {},
     "output_type": "execute_result"
    }
   ],
   "source": [
    "columns = ['Depth(ft)','weight on bit (k-lbs)','Pump Press (psi)','Surface Torque (KPa)','Rotary Speed (rpm)','Flow In (gal/min)','ROP(1 ft)']\n",
    "df = df.loc[:, columns]\n",
    "df.head(6044)"
   ]
  },
  {
   "cell_type": "code",
   "execution_count": 4,
   "id": "35724316",
   "metadata": {},
   "outputs": [
    {
     "data": {
      "text/html": [
       "<div>\n",
       "<style scoped>\n",
       "    .dataframe tbody tr th:only-of-type {\n",
       "        vertical-align: middle;\n",
       "    }\n",
       "\n",
       "    .dataframe tbody tr th {\n",
       "        vertical-align: top;\n",
       "    }\n",
       "\n",
       "    .dataframe thead th {\n",
       "        text-align: right;\n",
       "    }\n",
       "</style>\n",
       "<table border=\"1\" class=\"dataframe\">\n",
       "  <thead>\n",
       "    <tr style=\"text-align: right;\">\n",
       "      <th></th>\n",
       "      <th>Depth(ft)</th>\n",
       "      <th>weight on bit (k-lbs)</th>\n",
       "      <th>Pump Press (psi)</th>\n",
       "      <th>Surface Torque (KPa)</th>\n",
       "      <th>Rotary Speed (rpm)</th>\n",
       "      <th>Flow In (gal/min)</th>\n",
       "    </tr>\n",
       "  </thead>\n",
       "  <tbody>\n",
       "    <tr>\n",
       "      <th>0</th>\n",
       "      <td>1401.28</td>\n",
       "      <td>13.40</td>\n",
       "      <td>640.62</td>\n",
       "      <td>958.27</td>\n",
       "      <td>113.11</td>\n",
       "      <td>930.43</td>\n",
       "    </tr>\n",
       "    <tr>\n",
       "      <th>1</th>\n",
       "      <td>1402.30</td>\n",
       "      <td>15.26</td>\n",
       "      <td>634.52</td>\n",
       "      <td>1027.15</td>\n",
       "      <td>103.65</td>\n",
       "      <td>866.61</td>\n",
       "    </tr>\n",
       "    <tr>\n",
       "      <th>2</th>\n",
       "      <td>1403.32</td>\n",
       "      <td>16.26</td>\n",
       "      <td>665.78</td>\n",
       "      <td>1022.67</td>\n",
       "      <td>103.44</td>\n",
       "      <td>961.17</td>\n",
       "    </tr>\n",
       "    <tr>\n",
       "      <th>3</th>\n",
       "      <td>1404.33</td>\n",
       "      <td>15.72</td>\n",
       "      <td>676.08</td>\n",
       "      <td>1068.66</td>\n",
       "      <td>95.23</td>\n",
       "      <td>959.99</td>\n",
       "    </tr>\n",
       "    <tr>\n",
       "      <th>4</th>\n",
       "      <td>1405.35</td>\n",
       "      <td>13.98</td>\n",
       "      <td>676.08</td>\n",
       "      <td>932.20</td>\n",
       "      <td>105.69</td>\n",
       "      <td>961.62</td>\n",
       "    </tr>\n",
       "    <tr>\n",
       "      <th>...</th>\n",
       "      <td>...</td>\n",
       "      <td>...</td>\n",
       "      <td>...</td>\n",
       "      <td>...</td>\n",
       "      <td>...</td>\n",
       "      <td>...</td>\n",
       "    </tr>\n",
       "    <tr>\n",
       "      <th>6039</th>\n",
       "      <td>7532.21</td>\n",
       "      <td>30.55</td>\n",
       "      <td>1549.23</td>\n",
       "      <td>1049.76</td>\n",
       "      <td>34.91</td>\n",
       "      <td>609.49</td>\n",
       "    </tr>\n",
       "    <tr>\n",
       "      <th>6040</th>\n",
       "      <td>7533.22</td>\n",
       "      <td>30.23</td>\n",
       "      <td>1565.90</td>\n",
       "      <td>1040.52</td>\n",
       "      <td>34.78</td>\n",
       "      <td>615.09</td>\n",
       "    </tr>\n",
       "    <tr>\n",
       "      <th>6041</th>\n",
       "      <td>7534.23</td>\n",
       "      <td>29.95</td>\n",
       "      <td>1506.81</td>\n",
       "      <td>1059.97</td>\n",
       "      <td>34.72</td>\n",
       "      <td>635.76</td>\n",
       "    </tr>\n",
       "    <tr>\n",
       "      <th>6042</th>\n",
       "      <td>7535.24</td>\n",
       "      <td>31.06</td>\n",
       "      <td>1408.32</td>\n",
       "      <td>999.78</td>\n",
       "      <td>36.49</td>\n",
       "      <td>627.15</td>\n",
       "    </tr>\n",
       "    <tr>\n",
       "      <th>6043</th>\n",
       "      <td>7536.25</td>\n",
       "      <td>30.60</td>\n",
       "      <td>1396.19</td>\n",
       "      <td>1025.01</td>\n",
       "      <td>34.06</td>\n",
       "      <td>988.39</td>\n",
       "    </tr>\n",
       "  </tbody>\n",
       "</table>\n",
       "<p>6044 rows × 6 columns</p>\n",
       "</div>"
      ],
      "text/plain": [
       "      Depth(ft)  weight on bit (k-lbs)  Pump Press (psi)  \\\n",
       "0       1401.28                  13.40            640.62   \n",
       "1       1402.30                  15.26            634.52   \n",
       "2       1403.32                  16.26            665.78   \n",
       "3       1404.33                  15.72            676.08   \n",
       "4       1405.35                  13.98            676.08   \n",
       "...         ...                    ...               ...   \n",
       "6039    7532.21                  30.55           1549.23   \n",
       "6040    7533.22                  30.23           1565.90   \n",
       "6041    7534.23                  29.95           1506.81   \n",
       "6042    7535.24                  31.06           1408.32   \n",
       "6043    7536.25                  30.60           1396.19   \n",
       "\n",
       "      Surface Torque (KPa)  Rotary Speed (rpm)  Flow In (gal/min)  \n",
       "0                   958.27              113.11             930.43  \n",
       "1                  1027.15              103.65             866.61  \n",
       "2                  1022.67              103.44             961.17  \n",
       "3                  1068.66               95.23             959.99  \n",
       "4                   932.20              105.69             961.62  \n",
       "...                    ...                 ...                ...  \n",
       "6039               1049.76               34.91             609.49  \n",
       "6040               1040.52               34.78             615.09  \n",
       "6041               1059.97               34.72             635.76  \n",
       "6042                999.78               36.49             627.15  \n",
       "6043               1025.01               34.06             988.39  \n",
       "\n",
       "[6044 rows x 6 columns]"
      ]
     },
     "execution_count": 4,
     "metadata": {},
     "output_type": "execute_result"
    }
   ],
   "source": [
    "X= pd.DataFrame(df.iloc[:,:-1])\n",
    "X"
   ]
  },
  {
   "cell_type": "code",
   "execution_count": 5,
   "id": "dd1cc849",
   "metadata": {},
   "outputs": [
    {
     "data": {
      "text/html": [
       "<div>\n",
       "<style scoped>\n",
       "    .dataframe tbody tr th:only-of-type {\n",
       "        vertical-align: middle;\n",
       "    }\n",
       "\n",
       "    .dataframe tbody tr th {\n",
       "        vertical-align: top;\n",
       "    }\n",
       "\n",
       "    .dataframe thead th {\n",
       "        text-align: right;\n",
       "    }\n",
       "</style>\n",
       "<table border=\"1\" class=\"dataframe\">\n",
       "  <thead>\n",
       "    <tr style=\"text-align: right;\">\n",
       "      <th></th>\n",
       "      <th>ROP(1 ft)</th>\n",
       "    </tr>\n",
       "  </thead>\n",
       "  <tbody>\n",
       "    <tr>\n",
       "      <th>0</th>\n",
       "      <td>27.98</td>\n",
       "    </tr>\n",
       "    <tr>\n",
       "      <th>1</th>\n",
       "      <td>70.42</td>\n",
       "    </tr>\n",
       "    <tr>\n",
       "      <th>2</th>\n",
       "      <td>73.22</td>\n",
       "    </tr>\n",
       "    <tr>\n",
       "      <th>3</th>\n",
       "      <td>77.92</td>\n",
       "    </tr>\n",
       "    <tr>\n",
       "      <th>4</th>\n",
       "      <td>67.84</td>\n",
       "    </tr>\n",
       "    <tr>\n",
       "      <th>...</th>\n",
       "      <td>...</td>\n",
       "    </tr>\n",
       "    <tr>\n",
       "      <th>6039</th>\n",
       "      <td>10.81</td>\n",
       "    </tr>\n",
       "    <tr>\n",
       "      <th>6040</th>\n",
       "      <td>13.51</td>\n",
       "    </tr>\n",
       "    <tr>\n",
       "      <th>6041</th>\n",
       "      <td>12.62</td>\n",
       "    </tr>\n",
       "    <tr>\n",
       "      <th>6042</th>\n",
       "      <td>14.72</td>\n",
       "    </tr>\n",
       "    <tr>\n",
       "      <th>6043</th>\n",
       "      <td>12.97</td>\n",
       "    </tr>\n",
       "  </tbody>\n",
       "</table>\n",
       "<p>6044 rows × 1 columns</p>\n",
       "</div>"
      ],
      "text/plain": [
       "      ROP(1 ft)\n",
       "0         27.98\n",
       "1         70.42\n",
       "2         73.22\n",
       "3         77.92\n",
       "4         67.84\n",
       "...         ...\n",
       "6039      10.81\n",
       "6040      13.51\n",
       "6041      12.62\n",
       "6042      14.72\n",
       "6043      12.97\n",
       "\n",
       "[6044 rows x 1 columns]"
      ]
     },
     "execution_count": 5,
     "metadata": {},
     "output_type": "execute_result"
    }
   ],
   "source": [
    "y= pd.DataFrame(df.iloc[:,-1])\n",
    "y"
   ]
  },
  {
   "cell_type": "code",
   "execution_count": 6,
   "id": "9a67f54b",
   "metadata": {},
   "outputs": [],
   "source": [
    "from sklearn.model_selection import train_test_split\n",
    "X_train, X_test, y_train, y_test = train_test_split(X, y, test_size=0.20)"
   ]
  },
  {
   "cell_type": "code",
   "execution_count": 7,
   "id": "79c769ab",
   "metadata": {},
   "outputs": [],
   "source": [
    "from sklearn.ensemble import RandomForestRegressor\n",
    "from sklearn import metrics"
   ]
  },
  {
   "cell_type": "code",
   "execution_count": 8,
   "id": "53e4e56c",
   "metadata": {},
   "outputs": [
    {
     "name": "stderr",
     "output_type": "stream",
     "text": [
      "<ipython-input-8-0b472b7daa56>:2: DataConversionWarning: A column-vector y was passed when a 1d array was expected. Please change the shape of y to (n_samples,), for example using ravel().\n",
      "  regressor.fit(X_train,y_train)\n"
     ]
    }
   ],
   "source": [
    "regressor= RandomForestRegressor(n_estimators=20,random_state=0)\n",
    "regressor.fit(X_train,y_train)\n",
    "y_pred=regressor.predict(X_test)\n",
    "r2_test = metrics.r2_score(y_test, y_pred)"
   ]
  },
  {
   "cell_type": "code",
   "execution_count": 9,
   "id": "eccdda06",
   "metadata": {},
   "outputs": [
    {
     "data": {
      "text/plain": [
       "0.8433974410259371"
      ]
     },
     "execution_count": 9,
     "metadata": {},
     "output_type": "execute_result"
    }
   ],
   "source": [
    "r2_test"
   ]
  },
  {
   "cell_type": "code",
   "execution_count": 10,
   "id": "2c012126",
   "metadata": {},
   "outputs": [
    {
     "data": {
      "text/html": [
       "<div>\n",
       "<style scoped>\n",
       "    .dataframe tbody tr th:only-of-type {\n",
       "        vertical-align: middle;\n",
       "    }\n",
       "\n",
       "    .dataframe tbody tr th {\n",
       "        vertical-align: top;\n",
       "    }\n",
       "\n",
       "    .dataframe thead th {\n",
       "        text-align: right;\n",
       "    }\n",
       "</style>\n",
       "<table border=\"1\" class=\"dataframe\">\n",
       "  <thead>\n",
       "    <tr style=\"text-align: right;\">\n",
       "      <th></th>\n",
       "      <th>ROP(1 ft)</th>\n",
       "    </tr>\n",
       "  </thead>\n",
       "  <tbody>\n",
       "    <tr>\n",
       "      <th>4481</th>\n",
       "      <td>7.09</td>\n",
       "    </tr>\n",
       "    <tr>\n",
       "      <th>3447</th>\n",
       "      <td>11.49</td>\n",
       "    </tr>\n",
       "    <tr>\n",
       "      <th>2552</th>\n",
       "      <td>25.90</td>\n",
       "    </tr>\n",
       "    <tr>\n",
       "      <th>542</th>\n",
       "      <td>20.46</td>\n",
       "    </tr>\n",
       "    <tr>\n",
       "      <th>645</th>\n",
       "      <td>25.95</td>\n",
       "    </tr>\n",
       "    <tr>\n",
       "      <th>...</th>\n",
       "      <td>...</td>\n",
       "    </tr>\n",
       "    <tr>\n",
       "      <th>4024</th>\n",
       "      <td>10.44</td>\n",
       "    </tr>\n",
       "    <tr>\n",
       "      <th>1183</th>\n",
       "      <td>57.21</td>\n",
       "    </tr>\n",
       "    <tr>\n",
       "      <th>3609</th>\n",
       "      <td>8.34</td>\n",
       "    </tr>\n",
       "    <tr>\n",
       "      <th>4907</th>\n",
       "      <td>17.55</td>\n",
       "    </tr>\n",
       "    <tr>\n",
       "      <th>2693</th>\n",
       "      <td>16.76</td>\n",
       "    </tr>\n",
       "  </tbody>\n",
       "</table>\n",
       "<p>1209 rows × 1 columns</p>\n",
       "</div>"
      ],
      "text/plain": [
       "      ROP(1 ft)\n",
       "4481       7.09\n",
       "3447      11.49\n",
       "2552      25.90\n",
       "542       20.46\n",
       "645       25.95\n",
       "...         ...\n",
       "4024      10.44\n",
       "1183      57.21\n",
       "3609       8.34\n",
       "4907      17.55\n",
       "2693      16.76\n",
       "\n",
       "[1209 rows x 1 columns]"
      ]
     },
     "execution_count": 10,
     "metadata": {},
     "output_type": "execute_result"
    }
   ],
   "source": [
    "y_test"
   ]
  },
  {
   "cell_type": "code",
   "execution_count": 11,
   "id": "52d1ab20",
   "metadata": {},
   "outputs": [
    {
     "data": {
      "text/plain": [
       "array([ 8.5665,  9.8685, 17.7765, ...,  7.988 , 13.716 , 15.87  ])"
      ]
     },
     "execution_count": 11,
     "metadata": {},
     "output_type": "execute_result"
    }
   ],
   "source": [
    "y_pred"
   ]
  },
  {
   "cell_type": "code",
   "execution_count": 12,
   "id": "a3ce225f",
   "metadata": {},
   "outputs": [
    {
     "data": {
      "text/html": [
       "<div>\n",
       "<style scoped>\n",
       "    .dataframe tbody tr th:only-of-type {\n",
       "        vertical-align: middle;\n",
       "    }\n",
       "\n",
       "    .dataframe tbody tr th {\n",
       "        vertical-align: top;\n",
       "    }\n",
       "\n",
       "    .dataframe thead th {\n",
       "        text-align: right;\n",
       "    }\n",
       "</style>\n",
       "<table border=\"1\" class=\"dataframe\">\n",
       "  <thead>\n",
       "    <tr style=\"text-align: right;\">\n",
       "      <th></th>\n",
       "      <th>Depth(ft)</th>\n",
       "      <th>weight on bit (k-lbs)</th>\n",
       "      <th>Pump Press (psi)</th>\n",
       "      <th>Surface Torque (KPa)</th>\n",
       "      <th>Rotary Speed (rpm)</th>\n",
       "      <th>Flow In (gal/min)</th>\n",
       "    </tr>\n",
       "  </thead>\n",
       "  <tbody>\n",
       "    <tr>\n",
       "      <th>3680</th>\n",
       "      <td>5154.35</td>\n",
       "      <td>28.65</td>\n",
       "      <td>1567.81</td>\n",
       "      <td>1199.04</td>\n",
       "      <td>53.06</td>\n",
       "      <td>614.43</td>\n",
       "    </tr>\n",
       "    <tr>\n",
       "      <th>4918</th>\n",
       "      <td>6399.97</td>\n",
       "      <td>35.86</td>\n",
       "      <td>1250.73</td>\n",
       "      <td>1021.84</td>\n",
       "      <td>43.98</td>\n",
       "      <td>602.17</td>\n",
       "    </tr>\n",
       "    <tr>\n",
       "      <th>1797</th>\n",
       "      <td>3253.34</td>\n",
       "      <td>26.11</td>\n",
       "      <td>1561.42</td>\n",
       "      <td>1038.94</td>\n",
       "      <td>40.46</td>\n",
       "      <td>695.30</td>\n",
       "    </tr>\n",
       "    <tr>\n",
       "      <th>5147</th>\n",
       "      <td>6631.55</td>\n",
       "      <td>35.59</td>\n",
       "      <td>1699.24</td>\n",
       "      <td>1040.25</td>\n",
       "      <td>38.81</td>\n",
       "      <td>695.64</td>\n",
       "    </tr>\n",
       "    <tr>\n",
       "      <th>2241</th>\n",
       "      <td>3703.37</td>\n",
       "      <td>20.86</td>\n",
       "      <td>1877.58</td>\n",
       "      <td>1155.67</td>\n",
       "      <td>57.85</td>\n",
       "      <td>723.49</td>\n",
       "    </tr>\n",
       "    <tr>\n",
       "      <th>...</th>\n",
       "      <td>...</td>\n",
       "      <td>...</td>\n",
       "      <td>...</td>\n",
       "      <td>...</td>\n",
       "      <td>...</td>\n",
       "      <td>...</td>\n",
       "    </tr>\n",
       "    <tr>\n",
       "      <th>448</th>\n",
       "      <td>1857.29</td>\n",
       "      <td>20.49</td>\n",
       "      <td>638.71</td>\n",
       "      <td>683.02</td>\n",
       "      <td>105.91</td>\n",
       "      <td>867.77</td>\n",
       "    </tr>\n",
       "    <tr>\n",
       "      <th>3068</th>\n",
       "      <td>4545.68</td>\n",
       "      <td>28.30</td>\n",
       "      <td>1757.22</td>\n",
       "      <td>1306.33</td>\n",
       "      <td>63.16</td>\n",
       "      <td>729.31</td>\n",
       "    </tr>\n",
       "    <tr>\n",
       "      <th>4912</th>\n",
       "      <td>6393.88</td>\n",
       "      <td>34.97</td>\n",
       "      <td>1259.07</td>\n",
       "      <td>871.73</td>\n",
       "      <td>45.03</td>\n",
       "      <td>597.86</td>\n",
       "    </tr>\n",
       "    <tr>\n",
       "      <th>2199</th>\n",
       "      <td>3661.18</td>\n",
       "      <td>23.27</td>\n",
       "      <td>1840.61</td>\n",
       "      <td>1091.00</td>\n",
       "      <td>53.49</td>\n",
       "      <td>733.85</td>\n",
       "    </tr>\n",
       "    <tr>\n",
       "      <th>4459</th>\n",
       "      <td>5936.77</td>\n",
       "      <td>34.74</td>\n",
       "      <td>1454.53</td>\n",
       "      <td>1332.05</td>\n",
       "      <td>38.99</td>\n",
       "      <td>596.76</td>\n",
       "    </tr>\n",
       "  </tbody>\n",
       "</table>\n",
       "<p>4835 rows × 6 columns</p>\n",
       "</div>"
      ],
      "text/plain": [
       "      Depth(ft)  weight on bit (k-lbs)  Pump Press (psi)  \\\n",
       "3680    5154.35                  28.65           1567.81   \n",
       "4918    6399.97                  35.86           1250.73   \n",
       "1797    3253.34                  26.11           1561.42   \n",
       "5147    6631.55                  35.59           1699.24   \n",
       "2241    3703.37                  20.86           1877.58   \n",
       "...         ...                    ...               ...   \n",
       "448     1857.29                  20.49            638.71   \n",
       "3068    4545.68                  28.30           1757.22   \n",
       "4912    6393.88                  34.97           1259.07   \n",
       "2199    3661.18                  23.27           1840.61   \n",
       "4459    5936.77                  34.74           1454.53   \n",
       "\n",
       "      Surface Torque (KPa)  Rotary Speed (rpm)  Flow In (gal/min)  \n",
       "3680               1199.04               53.06             614.43  \n",
       "4918               1021.84               43.98             602.17  \n",
       "1797               1038.94               40.46             695.30  \n",
       "5147               1040.25               38.81             695.64  \n",
       "2241               1155.67               57.85             723.49  \n",
       "...                    ...                 ...                ...  \n",
       "448                 683.02              105.91             867.77  \n",
       "3068               1306.33               63.16             729.31  \n",
       "4912                871.73               45.03             597.86  \n",
       "2199               1091.00               53.49             733.85  \n",
       "4459               1332.05               38.99             596.76  \n",
       "\n",
       "[4835 rows x 6 columns]"
      ]
     },
     "execution_count": 12,
     "metadata": {},
     "output_type": "execute_result"
    }
   ],
   "source": [
    "X_train"
   ]
  },
  {
   "cell_type": "code",
   "execution_count": 13,
   "id": "0c23f105",
   "metadata": {},
   "outputs": [
    {
     "name": "stderr",
     "output_type": "stream",
     "text": [
      "<ipython-input-13-0b472b7daa56>:2: DataConversionWarning: A column-vector y was passed when a 1d array was expected. Please change the shape of y to (n_samples,), for example using ravel().\n",
      "  regressor.fit(X_train,y_train)\n"
     ]
    }
   ],
   "source": [
    "regressor= RandomForestRegressor(n_estimators=20,random_state=0)\n",
    "regressor.fit(X_train,y_train)\n",
    "y_pred=regressor.predict(X_test)\n",
    "r2_test = metrics.r2_score(y_test, y_pred)"
   ]
  },
  {
   "cell_type": "code",
   "execution_count": 14,
   "id": "7da5972a",
   "metadata": {},
   "outputs": [
    {
     "name": "stderr",
     "output_type": "stream",
     "text": [
      "<ipython-input-14-fb65d6fc7d43>:2: DataConversionWarning: A column-vector y was passed when a 1d array was expected. Please change the shape of y to (n_samples,), for example using ravel().\n",
      "  regressor.fit(X_train,y_train)\n"
     ]
    }
   ],
   "source": [
    "regressor= RandomForestRegressor(n_estimators=20,random_state=0)\n",
    "regressor.fit(X_train,y_train)\n",
    "a_trainpredict=regressor.predict(X_train)\n",
    "r2_train = metrics.r2_score(y_train,a_trainpredict)"
   ]
  },
  {
   "cell_type": "code",
   "execution_count": 15,
   "id": "c0b6aa62",
   "metadata": {},
   "outputs": [
    {
     "data": {
      "text/plain": [
       "0.9715967177633291"
      ]
     },
     "execution_count": 15,
     "metadata": {},
     "output_type": "execute_result"
    }
   ],
   "source": [
    "r2_train"
   ]
  },
  {
   "cell_type": "code",
   "execution_count": 16,
   "id": "1780dfe9",
   "metadata": {},
   "outputs": [
    {
     "data": {
      "text/plain": [
       "array([ 9.8045, 13.568 , 21.97  , ..., 14.351 , 12.81  , 11.4625])"
      ]
     },
     "execution_count": 16,
     "metadata": {},
     "output_type": "execute_result"
    }
   ],
   "source": [
    "a_trainpredict"
   ]
  },
  {
   "cell_type": "code",
   "execution_count": 52,
   "id": "bd3125f6",
   "metadata": {},
   "outputs": [
    {
     "data": {
      "image/png": "[encoded data removed]",
      "text/plain": [
       "<Figure size 432x288 with 1 Axes>"
      ]
     },
     "metadata": {
      "needs_background": "light"
     },
     "output_type": "display_data"
    }
   ],
   "source": [
    "size=10\n",
    "plt.scatter(y_train,a_trainpredict,c='black',s=size,marker=\"x\")\n",
    "plt.title(\"Training Data\")\n",
    "plt.xlabel(\"Actual ROP\")\n",
    "plt.ylabel(\"Predicted ROP\")\n",
    "plt.show()"
   ]
  },
  {
   "cell_type": "code",
   "execution_count": 51,
   "id": "d301f74e",
   "metadata": {},
   "outputs": [
    {
     "data": {
      "image/png": "[encoded data removed]",
      "text/plain": [
       "<Figure size 432x288 with 1 Axes>"
      ]
     },
     "metadata": {
      "needs_background": "light"
     },
     "output_type": "display_data"
    }
   ],
   "source": [
    "size=10\n",
    "plt.scatter(y_test, y_pred,c='black',s=size,marker=\"x\")\n",
    "plt.title(\"Testing Data\")\n",
    "plt.xlabel(\"Actual ROP\")\n",
    "plt.ylabel(\"Predicted ROP\")\n",
    "plt.show()"
   ]
  },
  {
   "cell_type": "code",
   "execution_count": 33,
   "id": "eb73074d",
   "metadata": {},
   "outputs": [],
   "source": [
    "from sklearn.metrics import r2_score"
   ]
  },
  {
   "cell_type": "code",
   "execution_count": 19,
   "id": "aa667c76",
   "metadata": {},
   "outputs": [
    {
     "name": "stdout",
     "output_type": "stream",
     "text": [
      "R-squared: 0.8433974410259371\n"
     ]
    }
   ],
   "source": [
    "print('R-squared:',metrics.r2_score(y_test,y_pred))"
   ]
  },
  {
   "cell_type": "code",
   "execution_count": 20,
   "id": "94aaa4bc",
   "metadata": {},
   "outputs": [
    {
     "name": "stdout",
     "output_type": "stream",
     "text": [
      "R-squared: 0.9715967177633291\n"
     ]
    }
   ],
   "source": [
    "print('R-squared:',metrics.r2_score(y_train,a_trainpredict))"
   ]
  },
  {
   "cell_type": "code",
   "execution_count": null,
   "id": "8f160bda",
   "metadata": {},
   "outputs": [],
   "source": []
  }
 ],
 "metadata": {
  "kernelspec": {
   "display_name": "Python 3",
   "language": "python",
   "name": "python3"
  },
  "language_info": {
   "codemirror_mode": {
    "name": "ipython",
    "version": 3
   },
   "file_extension": ".py",
   "mimetype": "text/x-python",
   "name": "python",
   "nbconvert_exporter": "python",
   "pygments_lexer": "ipython3",
   "version": "3.8.8"
  }
 },
 "nbformat": 4,
 "nbformat_minor": 5
}
